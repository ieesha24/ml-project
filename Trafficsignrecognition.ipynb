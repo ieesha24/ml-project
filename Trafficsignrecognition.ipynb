{
 "cells": [
  {
   "cell_type": "code",
   "execution_count": 11,
   "id": "6edfda17",
   "metadata": {},
   "outputs": [],
   "source": [
    "import numpy as np \n",
    "import pandas as pd \n",
    "import matplotlib.pyplot as plt\n",
    "import cv2\n",
    "import tensorflow as tf\n",
    "from PIL import Image\n",
    "import os\n",
    "from sklearn.model_selection import train_test_split\n",
    "from tensorflow.keras.utils import to_categorical\n",
    "from keras.models import Sequential, load_model\n",
    "from keras.layers import Conv2D, MaxPool2D, Dense, Flatten, Dropout\n",
    "\n",
    "data = []\n",
    "labels = []\n",
    "classes = 43\n",
    "cur_path = \"C:\\mlproject\""
   ]
  },
  {
   "cell_type": "code",
   "execution_count": 12,
   "id": "3b3aab1f",
   "metadata": {},
   "outputs": [],
   "source": [
    "#Retrieving the images and their labels \n",
    "for i in range(classes):\n",
    "    path = os.path.join(cur_path,'train',str(i))\n",
    "    images = os.listdir(path)\n",
    "\n",
    "    for a in images:\n",
    "        try:\n",
    "            image = Image.open(path + '\\\\'+ a)\n",
    "            image = image.resize((30,30))\n",
    "            image = np.array(image)\n",
    "            #sim = Image.fromarray(image)\n",
    "            data.append(image)\n",
    "            labels.append(i)\n",
    "        except:\n",
    "            print(\"Error loading image\")\n",
    "        "
   ]
  },
  {
   "cell_type": "code",
   "execution_count": 13,
   "id": "8645ad04",
   "metadata": {},
   "outputs": [
    {
     "name": "stdout",
     "output_type": "stream",
     "text": [
      "(39209, 30, 30, 3) (39209,)\n",
      "(31367, 30, 30, 3) (7842, 30, 30, 3) (31367,) (7842,)\n"
     ]
    }
   ],
   "source": [
    "#Converting lists into numpy arrays\n",
    "data = np.array(data)\n",
    "labels = np.array(labels)\n",
    "\n",
    "print(data.shape, labels.shape)\n",
    "#Splitting training and testing dataset\n",
    "X_train, X_test, y_train, y_test = train_test_split(data, labels, test_size=0.2, random_state=42)\n",
    "\n",
    "print(X_train.shape, X_test.shape, y_train.shape, y_test.shape)\n",
    "\n",
    "#Converting the labels into one hot encoding\n",
    "y_train = to_categorical(y_train, 43)\n",
    "y_test = to_categorical(y_test, 43)"
   ]
  },
  {
   "cell_type": "code",
   "execution_count": 14,
   "id": "cb221089",
   "metadata": {},
   "outputs": [],
   "source": [
    "#Building the model\n",
    "model = Sequential()\n",
    "model.add(Conv2D(filters=32, kernel_size=(5,5), activation='relu', input_shape=X_train.shape[1:]))\n",
    "model.add(Conv2D(filters=32, kernel_size=(5,5), activation='relu'))\n",
    "model.add(MaxPool2D(pool_size=(2, 2)))\n",
    "model.add(Dropout(rate=0.25))\n",
    "model.add(Conv2D(filters=64, kernel_size=(3, 3), activation='relu'))\n",
    "model.add(Conv2D(filters=64, kernel_size=(3, 3), activation='relu'))\n",
    "model.add(MaxPool2D(pool_size=(2, 2)))\n",
    "model.add(Dropout(rate=0.25))\n",
    "model.add(Flatten())\n",
    "model.add(Dense(256, activation='relu'))\n",
    "model.add(Dropout(rate=0.5))\n",
    "model.add(Dense(43, activation='softmax'))"
   ]
  },
  {
   "cell_type": "code",
   "execution_count": 15,
   "id": "57e1108e",
   "metadata": {},
   "outputs": [
    {
     "name": "stdout",
     "output_type": "stream",
     "text": [
      "Epoch 1/15\n",
      "981/981 [==============================] - 39s 39ms/step - loss: 2.1044 - accuracy: 0.4641 - val_loss: 0.5738 - val_accuracy: 0.8424\n",
      "Epoch 2/15\n",
      "981/981 [==============================] - 44s 45ms/step - loss: 0.7700 - accuracy: 0.7684 - val_loss: 0.2883 - val_accuracy: 0.9175\n",
      "Epoch 3/15\n",
      "981/981 [==============================] - 46s 47ms/step - loss: 0.5074 - accuracy: 0.8484 - val_loss: 0.1708 - val_accuracy: 0.9563\n",
      "Epoch 4/15\n",
      "981/981 [==============================] - 44s 45ms/step - loss: 0.3667 - accuracy: 0.8891 - val_loss: 0.2415 - val_accuracy: 0.9422\n",
      "Epoch 5/15\n",
      "981/981 [==============================] - 45s 46ms/step - loss: 0.3023 - accuracy: 0.9102 - val_loss: 0.0961 - val_accuracy: 0.9717\n",
      "Epoch 6/15\n",
      "981/981 [==============================] - 43s 44ms/step - loss: 0.2634 - accuracy: 0.9233 - val_loss: 0.0996 - val_accuracy: 0.9736\n",
      "Epoch 7/15\n",
      "981/981 [==============================] - 46s 47ms/step - loss: 0.2514 - accuracy: 0.9267 - val_loss: 0.0776 - val_accuracy: 0.9774\n",
      "Epoch 8/15\n",
      "981/981 [==============================] - 47s 48ms/step - loss: 0.2306 - accuracy: 0.9335 - val_loss: 0.0742 - val_accuracy: 0.9802\n",
      "Epoch 9/15\n",
      "981/981 [==============================] - 55s 56ms/step - loss: 0.2270 - accuracy: 0.9363 - val_loss: 0.0631 - val_accuracy: 0.9814\n",
      "Epoch 10/15\n",
      "981/981 [==============================] - 48s 49ms/step - loss: 0.2293 - accuracy: 0.9344 - val_loss: 0.0586 - val_accuracy: 0.9839\n",
      "Epoch 11/15\n",
      "981/981 [==============================] - 42s 43ms/step - loss: 0.2137 - accuracy: 0.9391 - val_loss: 0.0674 - val_accuracy: 0.9820\n",
      "Epoch 12/15\n",
      "981/981 [==============================] - 48s 49ms/step - loss: 0.2021 - accuracy: 0.9433 - val_loss: 0.0665 - val_accuracy: 0.9823\n",
      "Epoch 13/15\n",
      "981/981 [==============================] - 43s 43ms/step - loss: 0.2042 - accuracy: 0.9434 - val_loss: 0.0688 - val_accuracy: 0.9824\n",
      "Epoch 14/15\n",
      "981/981 [==============================] - 42s 43ms/step - loss: 0.2064 - accuracy: 0.9435 - val_loss: 0.0516 - val_accuracy: 0.9853\n",
      "Epoch 15/15\n",
      "981/981 [==============================] - 42s 43ms/step - loss: 0.1963 - accuracy: 0.9444 - val_loss: 0.0503 - val_accuracy: 0.9860\n"
     ]
    }
   ],
   "source": [
    "#Compilation of the model\n",
    "model.compile(loss='categorical_crossentropy', optimizer='adam', metrics=['accuracy'])\n",
    "\n",
    "epochs = 15\n",
    "history = model.fit(X_train, y_train, batch_size=32, epochs=epochs, validation_data=(X_test, y_test))\n",
    "model.save(\"my_model.h5\")"
   ]
  },
  {
   "cell_type": "code",
   "execution_count": 16,
   "id": "4cd8153b",
   "metadata": {},
   "outputs": [
    {
     "data": {
      "image/png": "[encoded data removed]",
      "text/plain": [
       "<Figure size 432x288 with 1 Axes>"
      ]
     },
     "metadata": {
      "needs_background": "light"
     },
     "output_type": "display_data"
    },
    {
     "data": {
      "image/png": "[encoded data removed]",
      "text/plain": [
       "<Figure size 432x288 with 1 Axes>"
      ]
     },
     "metadata": {
      "needs_background": "light"
     },
     "output_type": "display_data"
    }
   ],
   "source": [
    "#plotting graphs for accuracy \n",
    "plt.figure(0)\n",
    "plt.plot(history.history['accuracy'], label='training accuracy')\n",
    "plt.plot(history.history['val_accuracy'], label='val accuracy')\n",
    "plt.title('Accuracy')\n",
    "plt.xlabel('epochs')\n",
    "plt.ylabel('accuracy')\n",
    "plt.legend()\n",
    "plt.show()\n",
    "\n",
    "plt.figure(1)\n",
    "plt.plot(history.history['loss'], label='training loss')\n",
    "plt.plot(history.history['val_loss'], label='val loss')\n",
    "plt.title('Loss')\n",
    "plt.xlabel('epochs')\n",
    "plt.ylabel('loss')\n",
    "plt.legend()\n",
    "plt.show()"
   ]
  },
  {
   "cell_type": "code",
   "execution_count": 22,
   "id": "dfde338e",
   "metadata": {},
   "outputs": [],
   "source": [
    "#testing accuracy on test dataset\n",
    "from sklearn.metrics import accuracy_score\n",
    "\n",
    "y_test = pd.read_csv(\"C:\\mlproject\\Test.csv\")\n",
    "\n",
    "labels = y_test[\"ClassId\"].values\n",
    "imgs = y_test[\"Path\"].values\n",
    "data=[]\n",
    "\n",
    "for img in imgs:\n",
    "    path=\"C:\\mlproject\"\n",
    "    img=os.path.join(path,img)\n",
    "    image = Image.open(img)\n",
    "    image = image.resize((30,30))\n",
    "    data.append(np.array(image))\n",
    "\n",
    "X_test=np.array(data)\n",
    "\n"
   ]
  },
  {
   "cell_type": "code",
   "execution_count": 25,
   "id": "c7d0af74",
   "metadata": {},
   "outputs": [],
   "source": [
    "predictions = (model.predict(X_test) > 0.5).astype(\"int32\")"
   ]
  },
  {
   "cell_type": "code",
   "execution_count": 26,
   "id": "6edd4654",
   "metadata": {},
   "outputs": [
    {
     "data": {
      "text/plain": [
       "array([[0, 0, 0, ..., 0, 0, 0],\n",
       "       [0, 1, 0, ..., 0, 0, 0],\n",
       "       [0, 0, 0, ..., 0, 0, 0],\n",
       "       ...,\n",
       "       [0, 0, 0, ..., 0, 0, 0],\n",
       "       [0, 0, 0, ..., 0, 0, 0],\n",
       "       [0, 0, 0, ..., 0, 0, 0]])"
      ]
     },
     "execution_count": 26,
     "metadata": {},
     "output_type": "execute_result"
    }
   ],
   "source": [
    "predictions"
   ]
  },
  {
   "cell_type": "code",
   "execution_count": 29,
   "id": "dd8759e7",
   "metadata": {},
   "outputs": [],
   "source": [
    "import numpy as np\n",
    "a = predictions\n",
    "predictions=np.argmax(a, axis=1)"
   ]
  },
  {
   "cell_type": "code",
   "execution_count": 30,
   "id": "89d6b815",
   "metadata": {},
   "outputs": [],
   "source": [
    "predictions=np.array(predictions)"
   ]
  },
  {
   "cell_type": "code",
   "execution_count": 31,
   "id": "ae3edd20",
   "metadata": {},
   "outputs": [
    {
     "data": {
      "text/plain": [
       "0.938479809976247"
      ]
     },
     "execution_count": 31,
     "metadata": {},
     "output_type": "execute_result"
    }
   ],
   "source": [
    "accuracy_score(labels,predictions)"
   ]
  },
  {
   "cell_type": "code",
   "execution_count": 33,
   "id": "16537055",
   "metadata": {},
   "outputs": [],
   "source": [
    "model.save('traffic_classification.h5')"
   ]
  },
  {
   "cell_type": "code",
   "execution_count": null,
   "id": "25a7f1ee",
   "metadata": {},
   "outputs": [],
   "source": []
  }
 ],
 "metadata": {
  "kernelspec": {
   "display_name": "Python 3 (ipykernel)",
   "language": "python",
   "name": "python3"
  },
  "language_info": {
   "codemirror_mode": {
    "name": "ipython",
    "version": 3
   },
   "file_extension": ".py",
   "mimetype": "text/x-python",
   "name": "python",
   "nbconvert_exporter": "python",
   "pygments_lexer": "ipython3",
   "version": "3.9.7"
  }
 },
 "nbformat": 4,
 "nbformat_minor": 5
}
